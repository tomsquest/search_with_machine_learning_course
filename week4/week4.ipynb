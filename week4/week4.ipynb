{
 "cells": [
  {
   "cell_type": "code",
   "execution_count": 36,
   "outputs": [
    {
     "data": {
      "text/plain": "               category             parent\n0          abcat0010000           cat00000\n1          abcat0011000       abcat0010000\n2          abcat0011001       abcat0011000\n3          abcat0011002       abcat0011000\n4          abcat0011003       abcat0011000\n...                 ...                ...\n4634  pcmcat97200050013           cat15205\n4635  pcmcat97200050015           cat15063\n4636  pcmcat99000050001  pcmcat50000050006\n4637  pcmcat99000050002  pcmcat99000050001\n4638  pcmcat99300050000           cat15063\n\n[4639 rows x 2 columns]",
      "text/html": "<div>\n<style scoped>\n    .dataframe tbody tr th:only-of-type {\n        vertical-align: middle;\n    }\n\n    .dataframe tbody tr th {\n        vertical-align: top;\n    }\n\n    .dataframe thead th {\n        text-align: right;\n    }\n</style>\n<table border=\"1\" class=\"dataframe\">\n  <thead>\n    <tr style=\"text-align: right;\">\n      <th></th>\n      <th>category</th>\n      <th>parent</th>\n    </tr>\n  </thead>\n  <tbody>\n    <tr>\n      <th>0</th>\n      <td>abcat0010000</td>\n      <td>cat00000</td>\n    </tr>\n    <tr>\n      <th>1</th>\n      <td>abcat0011000</td>\n      <td>abcat0010000</td>\n    </tr>\n    <tr>\n      <th>2</th>\n      <td>abcat0011001</td>\n      <td>abcat0011000</td>\n    </tr>\n    <tr>\n      <th>3</th>\n      <td>abcat0011002</td>\n      <td>abcat0011000</td>\n    </tr>\n    <tr>\n      <th>4</th>\n      <td>abcat0011003</td>\n      <td>abcat0011000</td>\n    </tr>\n    <tr>\n      <th>...</th>\n      <td>...</td>\n      <td>...</td>\n    </tr>\n    <tr>\n      <th>4634</th>\n      <td>pcmcat97200050013</td>\n      <td>cat15205</td>\n    </tr>\n    <tr>\n      <th>4635</th>\n      <td>pcmcat97200050015</td>\n      <td>cat15063</td>\n    </tr>\n    <tr>\n      <th>4636</th>\n      <td>pcmcat99000050001</td>\n      <td>pcmcat50000050006</td>\n    </tr>\n    <tr>\n      <th>4637</th>\n      <td>pcmcat99000050002</td>\n      <td>pcmcat99000050001</td>\n    </tr>\n    <tr>\n      <th>4638</th>\n      <td>pcmcat99300050000</td>\n      <td>cat15063</td>\n    </tr>\n  </tbody>\n</table>\n<p>4639 rows × 2 columns</p>\n</div>"
     },
     "execution_count": 36,
     "metadata": {},
     "output_type": "execute_result"
    }
   ],
   "source": [
    "import xml.etree.ElementTree as ET\n",
    "import pandas as pd\n",
    "import numpy as np\n",
    "import csv\n",
    "\n",
    "categories_file_name = r'/workspace/datasets/product_data/categories/categories_0001_abcat0010000_to_pcmcat99300050000.xml'\n",
    "# categories_file_name = r'/workspace/datasets/product_data/categories/categories.small.xml'\n",
    "queries_file_name = r'/workspace/datasets/train.csv'\n",
    "\n",
    "# The root category, named Best Buy with id cat00000, doesn't have a parent.\n",
    "root_category_id = 'cat00000'\n",
    "\n",
    "tree = ET.parse(categories_file_name)\n",
    "root = tree.getroot()\n",
    "\n",
    "# Parse the category XML file to map each category id to its parent category id in a dataframe.\n",
    "categories = []\n",
    "parents = []\n",
    "for child in root:\n",
    "    id = child.find('id').text\n",
    "    cat_path = child.find('path')\n",
    "    cat_path_ids = [cat.find('id').text for cat in cat_path]\n",
    "    leaf_id = cat_path_ids[-1]\n",
    "    if leaf_id != root_category_id:\n",
    "        categories.append(leaf_id)\n",
    "        parents.append(cat_path_ids[-2])\n",
    "        # print(\"parents\", parents)\n",
    "        # print(\"leaf_id\", leaf_id, cat_path_ids[-2])\n",
    "parents_df = pd.DataFrame(list(zip(categories, parents)), columns =['category', 'parent'])\n",
    "parents_df"
   ],
   "metadata": {
    "collapsed": false,
    "pycharm": {
     "name": "#%%\n"
    }
   }
  },
  {
   "cell_type": "code",
   "execution_count": 38,
   "outputs": [
    {
     "data": {
      "text/plain": "                   category                                query\n0              abcat0101001  Televisiones Panasonic  50 pulgadas\n1              abcat0101001                                Sharp\n2        pcmcat193100050014                                 nook\n3              abcat0101001                                  rca\n4              abcat0101005                                  rca\n...                     ...                                  ...\n1865264  pcmcat247400050000                                  ttv\n1865265  pcmcat218000050000                               incase\n1865266  pcmcat248500050020                             ds games\n1865267  pcmcat209000050008                               Archos\n1865268  pcmcat182300050008                       graphics cards\n\n[1854998 rows x 2 columns]",
      "text/html": "<div>\n<style scoped>\n    .dataframe tbody tr th:only-of-type {\n        vertical-align: middle;\n    }\n\n    .dataframe tbody tr th {\n        vertical-align: top;\n    }\n\n    .dataframe thead th {\n        text-align: right;\n    }\n</style>\n<table border=\"1\" class=\"dataframe\">\n  <thead>\n    <tr style=\"text-align: right;\">\n      <th></th>\n      <th>category</th>\n      <th>query</th>\n    </tr>\n  </thead>\n  <tbody>\n    <tr>\n      <th>0</th>\n      <td>abcat0101001</td>\n      <td>Televisiones Panasonic  50 pulgadas</td>\n    </tr>\n    <tr>\n      <th>1</th>\n      <td>abcat0101001</td>\n      <td>Sharp</td>\n    </tr>\n    <tr>\n      <th>2</th>\n      <td>pcmcat193100050014</td>\n      <td>nook</td>\n    </tr>\n    <tr>\n      <th>3</th>\n      <td>abcat0101001</td>\n      <td>rca</td>\n    </tr>\n    <tr>\n      <th>4</th>\n      <td>abcat0101005</td>\n      <td>rca</td>\n    </tr>\n    <tr>\n      <th>...</th>\n      <td>...</td>\n      <td>...</td>\n    </tr>\n    <tr>\n      <th>1865264</th>\n      <td>pcmcat247400050000</td>\n      <td>ttv</td>\n    </tr>\n    <tr>\n      <th>1865265</th>\n      <td>pcmcat218000050000</td>\n      <td>incase</td>\n    </tr>\n    <tr>\n      <th>1865266</th>\n      <td>pcmcat248500050020</td>\n      <td>ds games</td>\n    </tr>\n    <tr>\n      <th>1865267</th>\n      <td>pcmcat209000050008</td>\n      <td>Archos</td>\n    </tr>\n    <tr>\n      <th>1865268</th>\n      <td>pcmcat182300050008</td>\n      <td>graphics cards</td>\n    </tr>\n  </tbody>\n</table>\n<p>1854998 rows × 2 columns</p>\n</div>"
     },
     "execution_count": 38,
     "metadata": {},
     "output_type": "execute_result"
    }
   ],
   "source": [
    "df = pd.read_csv(queries_file_name)[['category', 'query']]\n",
    "df = df[df['category'].isin(categories)]\n",
    "df"
   ],
   "metadata": {
    "collapsed": false,
    "pycharm": {
     "name": "#%%\n"
    }
   }
  },
  {
   "cell_type": "code",
   "execution_count": 39,
   "outputs": [
    {
     "data": {
      "text/plain": "                   category                          query\n0              abcat0101001  television panason 50 pulgada\n1              abcat0101001                          sharp\n2        pcmcat193100050014                           nook\n3              abcat0101001                            rca\n4              abcat0101005                            rca\n...                     ...                            ...\n1865264  pcmcat247400050000                            ttv\n1865265  pcmcat218000050000                          incas\n1865266  pcmcat248500050020                        ds game\n1865267  pcmcat209000050008                          archo\n1865268  pcmcat182300050008                   graphic card\n\n[1854998 rows x 2 columns]",
      "text/html": "<div>\n<style scoped>\n    .dataframe tbody tr th:only-of-type {\n        vertical-align: middle;\n    }\n\n    .dataframe tbody tr th {\n        vertical-align: top;\n    }\n\n    .dataframe thead th {\n        text-align: right;\n    }\n</style>\n<table border=\"1\" class=\"dataframe\">\n  <thead>\n    <tr style=\"text-align: right;\">\n      <th></th>\n      <th>category</th>\n      <th>query</th>\n    </tr>\n  </thead>\n  <tbody>\n    <tr>\n      <th>0</th>\n      <td>abcat0101001</td>\n      <td>television panason 50 pulgada</td>\n    </tr>\n    <tr>\n      <th>1</th>\n      <td>abcat0101001</td>\n      <td>sharp</td>\n    </tr>\n    <tr>\n      <th>2</th>\n      <td>pcmcat193100050014</td>\n      <td>nook</td>\n    </tr>\n    <tr>\n      <th>3</th>\n      <td>abcat0101001</td>\n      <td>rca</td>\n    </tr>\n    <tr>\n      <th>4</th>\n      <td>abcat0101005</td>\n      <td>rca</td>\n    </tr>\n    <tr>\n      <th>...</th>\n      <td>...</td>\n      <td>...</td>\n    </tr>\n    <tr>\n      <th>1865264</th>\n      <td>pcmcat247400050000</td>\n      <td>ttv</td>\n    </tr>\n    <tr>\n      <th>1865265</th>\n      <td>pcmcat218000050000</td>\n      <td>incas</td>\n    </tr>\n    <tr>\n      <th>1865266</th>\n      <td>pcmcat248500050020</td>\n      <td>ds game</td>\n    </tr>\n    <tr>\n      <th>1865267</th>\n      <td>pcmcat209000050008</td>\n      <td>archo</td>\n    </tr>\n    <tr>\n      <th>1865268</th>\n      <td>pcmcat182300050008</td>\n      <td>graphic card</td>\n    </tr>\n  </tbody>\n</table>\n<p>1854998 rows × 2 columns</p>\n</div>"
     },
     "execution_count": 39,
     "metadata": {},
     "output_type": "execute_result"
    }
   ],
   "source": [
    "import re\n",
    "from nltk.corpus import stopwords\n",
    "from nltk import \\\n",
    "    SnowballStemmer, \\\n",
    "    word_tokenize\n",
    "\n",
    "stemmer = SnowballStemmer(\"english\")\n",
    "stop_words = set(stopwords.words('english'))\n",
    "\n",
    "def transform_query(s: str):\n",
    "    s = s.lower()\n",
    "    s = re.sub('[\\'\"]', '', s)\n",
    "    tokens = word_tokenize(s)\n",
    "    tokens = [token for token in tokens if not token in stop_words]\n",
    "    tokens = [stemmer.stem(token) for token in tokens]\n",
    "    return \" \".join(tokens)\n",
    "\n",
    "df[\"query\"] = df['query'].apply(transform_query)\n",
    "df"
   ],
   "metadata": {
    "collapsed": false,
    "pycharm": {
     "name": "#%%\n"
    }
   }
  },
  {
   "cell_type": "code",
   "execution_count": 40,
   "outputs": [
    {
     "data": {
      "text/plain": "                   category                          query\n0              abcat0101001  television panason 50 pulgada\n1              abcat0101001                          sharp\n2        pcmcat193100050014                           nook\n3              abcat0101001                            rca\n4              abcat0101005                            rca\n...                     ...                            ...\n1865264  pcmcat247400050000                            ttv\n1865265  pcmcat218000050000                          incas\n1865266  pcmcat248500050020                        ds game\n1865267  pcmcat209000050008                          archo\n1865268  pcmcat182300050008                   graphic card\n\n[1854998 rows x 2 columns]",
      "text/html": "<div>\n<style scoped>\n    .dataframe tbody tr th:only-of-type {\n        vertical-align: middle;\n    }\n\n    .dataframe tbody tr th {\n        vertical-align: top;\n    }\n\n    .dataframe thead th {\n        text-align: right;\n    }\n</style>\n<table border=\"1\" class=\"dataframe\">\n  <thead>\n    <tr style=\"text-align: right;\">\n      <th></th>\n      <th>category</th>\n      <th>query</th>\n    </tr>\n  </thead>\n  <tbody>\n    <tr>\n      <th>0</th>\n      <td>abcat0101001</td>\n      <td>television panason 50 pulgada</td>\n    </tr>\n    <tr>\n      <th>1</th>\n      <td>abcat0101001</td>\n      <td>sharp</td>\n    </tr>\n    <tr>\n      <th>2</th>\n      <td>pcmcat193100050014</td>\n      <td>nook</td>\n    </tr>\n    <tr>\n      <th>3</th>\n      <td>abcat0101001</td>\n      <td>rca</td>\n    </tr>\n    <tr>\n      <th>4</th>\n      <td>abcat0101005</td>\n      <td>rca</td>\n    </tr>\n    <tr>\n      <th>...</th>\n      <td>...</td>\n      <td>...</td>\n    </tr>\n    <tr>\n      <th>1865264</th>\n      <td>pcmcat247400050000</td>\n      <td>ttv</td>\n    </tr>\n    <tr>\n      <th>1865265</th>\n      <td>pcmcat218000050000</td>\n      <td>incas</td>\n    </tr>\n    <tr>\n      <th>1865266</th>\n      <td>pcmcat248500050020</td>\n      <td>ds game</td>\n    </tr>\n    <tr>\n      <th>1865267</th>\n      <td>pcmcat209000050008</td>\n      <td>archo</td>\n    </tr>\n    <tr>\n      <th>1865268</th>\n      <td>pcmcat182300050008</td>\n      <td>graphic card</td>\n    </tr>\n  </tbody>\n</table>\n<p>1854998 rows × 2 columns</p>\n</div>"
     },
     "execution_count": 40,
     "metadata": {},
     "output_type": "execute_result"
    }
   ],
   "source": [
    "# d = df.head(100).copy(deep=True)\n",
    "# d = df.head(10_000).copy(deep=True)\n",
    "d = df.copy(deep=True)\n",
    "d"
   ],
   "metadata": {
    "collapsed": false,
    "pycharm": {
     "name": "#%%\n"
    }
   }
  },
  {
   "cell_type": "code",
   "execution_count": 58,
   "outputs": [
    {
     "data": {
      "text/plain": "                   category                          query  nb_queries\n0              abcat0101001  television panason 50 pulgada       80213\n1              abcat0101001                          sharp       80213\n2        pcmcat193100050014                           nook       13826\n3              abcat0101001                            rca       80213\n4              abcat0101005                            rca        1042\n...                     ...                            ...         ...\n1865264  pcmcat247400050000                            ttv       79245\n1865265  pcmcat218000050000                          incas        6685\n1865266  pcmcat248500050020                        ds game        2376\n1865267  pcmcat209000050008                          archo       74258\n1865268  pcmcat182300050008                   graphic card        4518\n\n[1854998 rows x 3 columns]",
      "text/html": "<div>\n<style scoped>\n    .dataframe tbody tr th:only-of-type {\n        vertical-align: middle;\n    }\n\n    .dataframe tbody tr th {\n        vertical-align: top;\n    }\n\n    .dataframe thead th {\n        text-align: right;\n    }\n</style>\n<table border=\"1\" class=\"dataframe\">\n  <thead>\n    <tr style=\"text-align: right;\">\n      <th></th>\n      <th>category</th>\n      <th>query</th>\n      <th>nb_queries</th>\n    </tr>\n  </thead>\n  <tbody>\n    <tr>\n      <th>0</th>\n      <td>abcat0101001</td>\n      <td>television panason 50 pulgada</td>\n      <td>80213</td>\n    </tr>\n    <tr>\n      <th>1</th>\n      <td>abcat0101001</td>\n      <td>sharp</td>\n      <td>80213</td>\n    </tr>\n    <tr>\n      <th>2</th>\n      <td>pcmcat193100050014</td>\n      <td>nook</td>\n      <td>13826</td>\n    </tr>\n    <tr>\n      <th>3</th>\n      <td>abcat0101001</td>\n      <td>rca</td>\n      <td>80213</td>\n    </tr>\n    <tr>\n      <th>4</th>\n      <td>abcat0101005</td>\n      <td>rca</td>\n      <td>1042</td>\n    </tr>\n    <tr>\n      <th>...</th>\n      <td>...</td>\n      <td>...</td>\n      <td>...</td>\n    </tr>\n    <tr>\n      <th>1865264</th>\n      <td>pcmcat247400050000</td>\n      <td>ttv</td>\n      <td>79245</td>\n    </tr>\n    <tr>\n      <th>1865265</th>\n      <td>pcmcat218000050000</td>\n      <td>incas</td>\n      <td>6685</td>\n    </tr>\n    <tr>\n      <th>1865266</th>\n      <td>pcmcat248500050020</td>\n      <td>ds game</td>\n      <td>2376</td>\n    </tr>\n    <tr>\n      <th>1865267</th>\n      <td>pcmcat209000050008</td>\n      <td>archo</td>\n      <td>74258</td>\n    </tr>\n    <tr>\n      <th>1865268</th>\n      <td>pcmcat182300050008</td>\n      <td>graphic card</td>\n      <td>4518</td>\n    </tr>\n  </tbody>\n</table>\n<p>1854998 rows × 3 columns</p>\n</div>"
     },
     "execution_count": 58,
     "metadata": {},
     "output_type": "execute_result"
    }
   ],
   "source": [
    "d[\"nb_queries\"] = d.groupby('category')['query'].transform(len)\n",
    "d"
   ],
   "metadata": {
    "collapsed": false,
    "pycharm": {
     "name": "#%%\n"
    }
   }
  },
  {
   "cell_type": "code",
   "execution_count": 59,
   "outputs": [
    {
     "data": {
      "text/plain": "0"
     },
     "execution_count": 59,
     "metadata": {},
     "output_type": "execute_result"
    }
   ],
   "source": [
    "min_queries = 1000\n",
    "\n",
    "nb_categories_having_less_than_min_queries = d[d[\"nb_queries\"] < min_queries][\"category\"].count()\n",
    "nb_categories_having_less_than_min_queries"
   ],
   "metadata": {
    "collapsed": false,
    "pycharm": {
     "name": "#%%\n"
    }
   }
  },
  {
   "cell_type": "code",
   "execution_count": 57,
   "outputs": [
    {
     "data": {
      "text/plain": "                   category                          query  nb_queries\n0              abcat0101001  television panason 50 pulgada       80213\n1              abcat0101001                          sharp       80213\n2        pcmcat193100050014                           nook       13826\n3              abcat0101001                            rca       80213\n4              abcat0101005                            rca        1042\n...                     ...                            ...         ...\n1865264  pcmcat247400050000                            ttv       79245\n1865265  pcmcat218000050000                          incas        6685\n1865266  pcmcat248500050020                        ds game        2376\n1865267  pcmcat209000050008                          archo       74258\n1865268  pcmcat182300050008                   graphic card        4518\n\n[1854998 rows x 3 columns]",
      "text/html": "<div>\n<style scoped>\n    .dataframe tbody tr th:only-of-type {\n        vertical-align: middle;\n    }\n\n    .dataframe tbody tr th {\n        vertical-align: top;\n    }\n\n    .dataframe thead th {\n        text-align: right;\n    }\n</style>\n<table border=\"1\" class=\"dataframe\">\n  <thead>\n    <tr style=\"text-align: right;\">\n      <th></th>\n      <th>category</th>\n      <th>query</th>\n      <th>nb_queries</th>\n    </tr>\n  </thead>\n  <tbody>\n    <tr>\n      <th>0</th>\n      <td>abcat0101001</td>\n      <td>television panason 50 pulgada</td>\n      <td>80213</td>\n    </tr>\n    <tr>\n      <th>1</th>\n      <td>abcat0101001</td>\n      <td>sharp</td>\n      <td>80213</td>\n    </tr>\n    <tr>\n      <th>2</th>\n      <td>pcmcat193100050014</td>\n      <td>nook</td>\n      <td>13826</td>\n    </tr>\n    <tr>\n      <th>3</th>\n      <td>abcat0101001</td>\n      <td>rca</td>\n      <td>80213</td>\n    </tr>\n    <tr>\n      <th>4</th>\n      <td>abcat0101005</td>\n      <td>rca</td>\n      <td>1042</td>\n    </tr>\n    <tr>\n      <th>...</th>\n      <td>...</td>\n      <td>...</td>\n      <td>...</td>\n    </tr>\n    <tr>\n      <th>1865264</th>\n      <td>pcmcat247400050000</td>\n      <td>ttv</td>\n      <td>79245</td>\n    </tr>\n    <tr>\n      <th>1865265</th>\n      <td>pcmcat218000050000</td>\n      <td>incas</td>\n      <td>6685</td>\n    </tr>\n    <tr>\n      <th>1865266</th>\n      <td>pcmcat248500050020</td>\n      <td>ds game</td>\n      <td>2376</td>\n    </tr>\n    <tr>\n      <th>1865267</th>\n      <td>pcmcat209000050008</td>\n      <td>archo</td>\n      <td>74258</td>\n    </tr>\n    <tr>\n      <th>1865268</th>\n      <td>pcmcat182300050008</td>\n      <td>graphic card</td>\n      <td>4518</td>\n    </tr>\n  </tbody>\n</table>\n<p>1854998 rows × 3 columns</p>\n</div>"
     },
     "execution_count": 57,
     "metadata": {},
     "output_type": "execute_result"
    }
   ],
   "source": [
    "def get_parent(category_code: str):\n",
    "    # Root category: no parent\n",
    "    if category_code == \"cat00000\":\n",
    "        return category_code\n",
    "    #print(\"get_parent of\", category_code)\n",
    "    return parents_df.loc[parents_df['category']==category_code][\"parent\"].values[0]\n",
    "# get_parent(\"abcat0101001\")\n",
    "\n",
    "def fn(series):\n",
    "    # print(\"fn\", series[\"category\"], series[\"nb_queries\"], min_queries)\n",
    "    if series[\"nb_queries\"] < min_queries:\n",
    "        parent = get_parent(series[\"category\"])\n",
    "        # print(\"get_parent for\", series[\"category\"], \" => parent is \", parent)\n",
    "        return parent\n",
    "    else:\n",
    "        # print(\"> min_queries: \", series[\"category\"])\n",
    "        return series[\"category\"]\n",
    "\n",
    "d[\"category\"] = d.apply(fn, axis=1)\n",
    "d"
   ],
   "metadata": {
    "collapsed": false,
    "pycharm": {
     "name": "#%%\n"
    }
   }
  },
  {
   "cell_type": "code",
   "execution_count": 60,
   "outputs": [
    {
     "name": "stdout",
     "output_type": "stream",
     "text": [
      "categ 1486 parent 388\n"
     ]
    }
   ],
   "source": [
    "print(\"categ\", len(pd.unique(df[\"category\"])), \"parent\", len(pd.unique(d[\"category\"])))"
   ],
   "metadata": {
    "collapsed": false,
    "pycharm": {
     "name": "#%%\n"
    }
   }
  },
  {
   "cell_type": "code",
   "execution_count": 61,
   "outputs": [
    {
     "data": {
      "text/plain": "'ok'"
     },
     "execution_count": 61,
     "metadata": {},
     "output_type": "execute_result"
    }
   ],
   "source": [
    "output_file_name = r'/workspace/datasets/labeled_query_data.min1000.txt'\n",
    "\n",
    "df['label'] = '__label__' + df['category']\n",
    "df['output'] = df['label'] + ' ' + df['query']\n",
    "df[['output']].to_csv(output_file_name, header=False, sep='|', escapechar='\\\\', quoting=csv.QUOTE_NONE, index=False)\n",
    "\"ok\"\n"
   ],
   "metadata": {
    "collapsed": false,
    "pycharm": {
     "name": "#%%\n"
    }
   }
  }
 ],
 "metadata": {
  "kernelspec": {
   "display_name": "Python 3",
   "language": "python",
   "name": "python3"
  },
  "language_info": {
   "codemirror_mode": {
    "name": "ipython",
    "version": 2
   },
   "file_extension": ".py",
   "mimetype": "text/x-python",
   "name": "python",
   "nbconvert_exporter": "python",
   "pygments_lexer": "ipython2",
   "version": "2.7.6"
  }
 },
 "nbformat": 4,
 "nbformat_minor": 0
}